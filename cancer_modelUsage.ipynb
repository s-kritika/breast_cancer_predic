{
 "cells": [
  {
   "cell_type": "code",
   "execution_count": 7,
   "metadata": {},
   "outputs": [],
   "source": [
    "from joblib import dump, load\n",
    "import numpy as np\n",
    "model = load(r'C:\\Users\\SHIVANI SHARMA\\Desktop\\ml project\\cancer-diagnose.joblib')"
   ]
  },
  {
   "cell_type": "code",
   "execution_count": 11,
   "metadata": {},
   "outputs": [
    {
     "data": {
      "text/plain": [
       "array([0])"
      ]
     },
     "execution_count": 11,
     "metadata": {},
     "output_type": "execute_result"
    }
   ],
   "source": [
    "f_input = np.array([[-1.293946  , -0.35451833, -0.30423901, -0.45979628, -1.23136644,\n",
    "        0.00994693, -0.9622507 , -0.08791494, -0.44783424, -0.73969188,\n",
    "       -0.42273252, -0.53839633, -0.43808455, -0.79203722, -0.46059851,\n",
    "        0.69297208, -0.56646632,  0.69613496, -0.57868789,  1.30439396,\n",
    "       -0.49460234,  0.73649968, -0.33259542, -0.59275374, -0.50397838,\n",
    "        0.37966632, -0.08481765, -0.15875545, -0.55746698,  1.70000000]])\n",
    "model.predict(f_input)"
   ]
  }
 ],
 "metadata": {
  "kernelspec": {
   "display_name": "Python 3",
   "language": "python",
   "name": "python3"
  },
  "language_info": {
   "codemirror_mode": {
    "name": "ipython",
    "version": 3
   },
   "file_extension": ".py",
   "mimetype": "text/x-python",
   "name": "python",
   "nbconvert_exporter": "python",
   "pygments_lexer": "ipython3",
   "version": "3.13.1"
  }
 },
 "nbformat": 4,
 "nbformat_minor": 2
}
